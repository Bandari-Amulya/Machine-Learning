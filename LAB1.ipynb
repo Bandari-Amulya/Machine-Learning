{
 "cells": [
  {
   "cell_type": "code",
   "execution_count": 13,
   "id": "de596200-8d76-4517-8315-a5e119f09f1d",
   "metadata": {},
   "outputs": [],
   "source": [
    "import random\n",
    "import statistics\n",
    "\n",
    "#Q1\n",
    "#counting vowels and consonants in a text\n",
    "\n",
    "def count_vowels_consonants(text):\n",
    "    vowels=set(\"aeiouAEIOU\")\n",
    "    vowel_count=0\n",
    "    consonant_count=0\n",
    "    for char in text:\n",
    "        if char.isalpha():\n",
    "            if char in vowels:\n",
    "                vowel_count+=1\n",
    "            else:\n",
    "                consonant_count+=1\n",
    "    return vowel_count,consonant_count\n",
    "\n",
    "#Q2\n",
    "#multiplying matrices\n",
    "\n",
    "\n",
    "def multiply_matrices(A,B):\n",
    "    rowsA=len(A)\n",
    "    colsA=len(A[0])\n",
    "    rowsB=len(B)\n",
    "    colsB=len(B[0])\n",
    "    if colsA!=colsB:\n",
    "        return \"can't multiply\"\n",
    "    ans=[[0 for _ in range(colsB)]for _ in range(rowsA)]\n",
    "    \n",
    "    for i in range(rowsA):\n",
    "        for j in range(colsB):\n",
    "            for k in range(colsB):\n",
    "                ans[i][j]+=A[i][k]*B[k][j]\n",
    "    return ans\n",
    "\n",
    "#Q3\n",
    "#finding number of common elements in 2 lists\n",
    "\n",
    "def common_elements(list1,list2):\n",
    "    set1=set(list1)\n",
    "    set2=set(list2)\n",
    "    common_elements=set1.intersection(set2)\n",
    "    return len(common_elements)\n",
    "\n",
    "#Q4\n",
    "#taking matrix as an input and displaying transpose\n",
    "\n",
    "def transpose(matrix):\n",
    "    return [[matrix[i][j] for i in range (len(matrix))]for j in range (len(matrix[0]))]\n",
    "    \n",
    "#Q5 \n",
    "#using in-built functions mean,median,mode\n",
    "\n",
    "def numbers():\n",
    "    numbers=[random.randint(100, 150) for _ in range(100)]\n",
    "    mean_val=statistics.mean(numbers)\n",
    "    median_val=statistics.median(numbers)\n",
    "    mode_val=statistics.mode(numbers)\n",
    "    return mean_val, median_val, mode_val\n"
   ]
  },
  {
   "cell_type": "code",
   "execution_count": 14,
   "id": "43e96339-8fc9-49f6-96b3-59222473b6f7",
   "metadata": {},
   "outputs": [
    {
     "name": "stdout",
     "output_type": "stream",
     "text": [
      "Text:'Good Morning!' → Vowels: 4, Consonants: 7\n",
      "[[19, 22], [43, 50]]\n",
      "Common elements count: 2\n",
      "[[1, 3, 5], [2, 4, 6]]\n",
      "Random Number Stats → Mean: 122.25, Median: 120.0, Mode: 114\n"
     ]
    }
   ],
   "source": [
    "#1\n",
    "text=\"Good Morning!\"\n",
    "vowels,consonants=count_vowels_consonants(text)\n",
    "print(f\"Text:'{text}' → Vowels: {vowels}, Consonants: {consonants}\")\n",
    "\n",
    "#2\n",
    "A=[[1, 2],[3, 4]]\n",
    "B=[[5, 6],[7, 8]]\n",
    "product=multiply_matrices(A, B)\n",
    "print(product)\n",
    "\n",
    "#3\n",
    "list1=[1, 2, 3, 4]\n",
    "list2=[3, 4, 5, 6]\n",
    "common_count=common_elements(list1, list2)\n",
    "print(f\"Common elements count: {common_count}\")\n",
    "\n",
    "#4\n",
    "matrix_input = [[1, 2], [3, 4], [5, 6]]\n",
    "transposed = transpose(matrix_input)\n",
    "print(transposed)\n",
    "\n",
    "#5\n",
    "mean_val,median_val,mode_val=numbers()\n",
    "print(f\"Random Number Stats → Mean: {mean_val}, Median: {median_val}, Mode: {mode_val}\")\n"
   ]
  },
  {
   "cell_type": "code",
   "execution_count": null,
   "id": "f2dfb25f-b4ec-4544-9677-bb30f2189dc8",
   "metadata": {},
   "outputs": [],
   "source": []
  }
 ],
 "metadata": {
  "kernelspec": {
   "display_name": "Python [conda env:notebook]",
   "language": "python",
   "name": "conda-env-notebook-py"
  },
  "language_info": {
   "codemirror_mode": {
    "name": "ipython",
    "version": 3
   },
   "file_extension": ".py",
   "mimetype": "text/x-python",
   "name": "python",
   "nbconvert_exporter": "python",
   "pygments_lexer": "ipython3",
   "version": "3.12.11"
  }
 },
 "nbformat": 4,
 "nbformat_minor": 5
}
